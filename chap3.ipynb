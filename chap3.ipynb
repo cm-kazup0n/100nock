{
 "cells": [
  {
   "cell_type": "code",
   "execution_count": 56,
   "metadata": {},
   "outputs": [],
   "source": [
    "import pandas as pd\n"
   ]
  },
  {
   "cell_type": "code",
   "execution_count": 57,
   "metadata": {},
   "outputs": [
    {
     "name": "stdout",
     "output_type": "stream",
     "text": [
      "3章_顧客の全体像を把握する１０本ノック.ipynb         class_master.csv\n",
      "3章_顧客の全体像を把握する１０本ノック_answer.ipynb  customer_master.csv\n",
      "campaign_master.csv                                  use_log.csv\n"
     ]
    }
   ],
   "source": [
    "! ls 3"
   ]
  },
  {
   "cell_type": "code",
   "execution_count": 58,
   "metadata": {},
   "outputs": [
    {
     "name": "stdout",
     "output_type": "stream",
     "text": [
      "            log_id customer_id     usedate\n",
      "0  L00000049012330    AS009373  2018-04-01\n",
      "1  L00000049012331    AS015315  2018-04-01\n",
      "2  L00000049012332    AS040841  2018-04-01\n",
      "3  L00000049012333    AS046594  2018-04-01\n",
      "4  L00000049012334    AS073285  2018-04-01\n",
      "                 log_id customer_id     usedate\n",
      "count            197428      197428      197428\n",
      "unique           197428        4192         365\n",
      "top     L00000049012330    GD960674  2019-02-18\n",
      "freq                  1         105         619\n"
     ]
    }
   ],
   "source": [
    "use_log = pd.read_csv('3/use_log.csv')\n",
    "print(use_log.head())\n",
    "print(use_log.describe())"
   ]
  },
  {
   "cell_type": "code",
   "execution_count": 59,
   "metadata": {},
   "outputs": [
    {
     "name": "stdout",
     "output_type": "stream",
     "text": [
      "  customer_id   name class gender           start_date end_date campaign_id  \\\n",
      "0    OA832399   XXXX   C01      F  2015-05-01 00:00:00      NaN         CA1   \n",
      "1    PL270116  XXXXX   C01      M  2015-05-01 00:00:00      NaN         CA1   \n",
      "2    OA974876  XXXXX   C01      M  2015-05-01 00:00:00      NaN         CA1   \n",
      "3    HD024127  XXXXX   C01      F  2015-05-01 00:00:00      NaN         CA1   \n",
      "4    HD661448  XXXXX   C03      F  2015-05-01 00:00:00      NaN         CA1   \n",
      "\n",
      "   is_deleted  \n",
      "0           0  \n",
      "1           0  \n",
      "2           0  \n",
      "3           0  \n",
      "4           0  \n",
      "        is_deleted\n",
      "count  4192.000000\n",
      "mean      0.322042\n",
      "std       0.467315\n",
      "min       0.000000\n",
      "25%       0.000000\n",
      "50%       0.000000\n",
      "75%       1.000000\n",
      "max       1.000000\n"
     ]
    }
   ],
   "source": [
    "customer = pd.read_csv('3/customer_master.csv')\n",
    "print(customer.head())\n",
    "print(customer.describe())"
   ]
  },
  {
   "cell_type": "code",
   "execution_count": 60,
   "metadata": {},
   "outputs": [
    {
     "name": "stdout",
     "output_type": "stream",
     "text": [
      "  campaign_id campaign_name\n",
      "0         CA1            通常\n",
      "1         CA2         入会費半額\n",
      "2         CA3         入会費無料\n",
      "       campaign_id campaign_name\n",
      "count            3             3\n",
      "unique           3             3\n",
      "top            CA1            通常\n",
      "freq             1             1\n"
     ]
    }
   ],
   "source": [
    "campaign_master = pd.read_csv('3/campaign_master.csv')\n",
    "print(campaign_master.head())\n",
    "print(campaign_master.describe())"
   ]
  },
  {
   "cell_type": "code",
   "execution_count": 61,
   "metadata": {},
   "outputs": [
    {
     "name": "stdout",
     "output_type": "stream",
     "text": [
      "  class class_name  price\n",
      "0   C01     オールタイム  10500\n",
      "1   C02      デイタイム   7500\n",
      "2   C03        ナイト   6000\n",
      "              price\n",
      "count      3.000000\n",
      "mean    8000.000000\n",
      "std     2291.287847\n",
      "min     6000.000000\n",
      "25%     6750.000000\n",
      "50%     7500.000000\n",
      "75%     9000.000000\n",
      "max    10500.000000\n"
     ]
    }
   ],
   "source": [
    "class_master = pd.read_csv('3/class_master.csv')\n",
    "print(class_master.head())\n",
    "print(class_master.describe())"
   ]
  },
  {
   "cell_type": "code",
   "execution_count": 62,
   "metadata": {},
   "outputs": [
    {
     "name": "stdout",
     "output_type": "stream",
     "text": [
      "  customer_id   name class gender           start_date end_date campaign_id  \\\n",
      "0    OA832399   XXXX   C01      F  2015-05-01 00:00:00      NaN         CA1   \n",
      "1    PL270116  XXXXX   C01      M  2015-05-01 00:00:00      NaN         CA1   \n",
      "2    OA974876  XXXXX   C01      M  2015-05-01 00:00:00      NaN         CA1   \n",
      "3    HD024127  XXXXX   C01      F  2015-05-01 00:00:00      NaN         CA1   \n",
      "4    HD661448  XXXXX   C03      F  2015-05-01 00:00:00      NaN         CA1   \n",
      "\n",
      "   is_deleted class_name  price campaign_name  \n",
      "0           0     オールタイム  10500            通常  \n",
      "1           0     オールタイム  10500            通常  \n",
      "2           0     オールタイム  10500            通常  \n",
      "3           0     オールタイム  10500            通常  \n",
      "4           0        ナイト   6000            通常  \n",
      "customer_id         0\n",
      "name                0\n",
      "class               0\n",
      "gender              0\n",
      "start_date          0\n",
      "end_date         2842\n",
      "campaign_id         0\n",
      "is_deleted          0\n",
      "class_name          0\n",
      "price               0\n",
      "campaign_name       0\n",
      "dtype: int64\n"
     ]
    }
   ],
   "source": [
    "customer_join = pd.merge(customer, class_master, on='class', how='left')\n",
    "customer_join = pd.merge(customer_join, campaign_master, on='campaign_id', how='left')\n",
    "print(customer_join.head())\n",
    "\n",
    "print(customer_join.isnull().sum())"
   ]
  },
  {
   "cell_type": "code",
   "execution_count": 63,
   "metadata": {},
   "outputs": [
    {
     "name": "stdout",
     "output_type": "stream",
     "text": [
      "Group by class_name\n",
      "class_name\n",
      "オールタイム    2045\n",
      "デイタイム     1019\n",
      "ナイト       1128\n",
      "Name: customer_id, dtype: int64\n",
      "Group by campaign_name\n",
      "campaign_name\n",
      "入会費半額     650\n",
      "入会費無料     492\n",
      "通常       3050\n",
      "Name: customer_id, dtype: int64\n",
      "Group by gender\n",
      "gender\n",
      "F    1983\n",
      "M    2209\n",
      "Name: customer_id, dtype: int64\n",
      "Group by is_deleted\n",
      "is_deleted\n",
      "0    2842\n",
      "1    1350\n",
      "Name: customer_id, dtype: int64\n"
     ]
    }
   ],
   "source": [
    "for col in ['class_name', 'campaign_name', 'gender', 'is_deleted']:\n",
    "  print(f'Group by {col}')\n",
    "  agg = customer_join.groupby(col).count()['customer_id']\n",
    "  print(agg)"
   ]
  },
  {
   "cell_type": "code",
   "execution_count": 64,
   "metadata": {},
   "outputs": [
    {
     "name": "stdout",
     "output_type": "stream",
     "text": [
      "1361\n"
     ]
    }
   ],
   "source": [
    "# 入会人数\n",
    "\n",
    "customer_join['start_date'] = pd.to_datetime(customer_join['start_date'])\n",
    "customer_start = customer_join.loc[customer_join['start_date'] > pd.to_datetime('20180401')]\n",
    "print(len(customer_start))"
   ]
  },
  {
   "cell_type": "code",
   "execution_count": 65,
   "metadata": {},
   "outputs": [
    {
     "name": "stdout",
     "output_type": "stream",
     "text": [
      "2953\n"
     ]
    },
    {
     "data": {
      "text/plain": [
       "array([                          'NaT', '2019-03-31T00:00:00.000000000'],\n",
       "      dtype='datetime64[ns]')"
      ]
     },
     "execution_count": 65,
     "metadata": {},
     "output_type": "execute_result"
    }
   ],
   "source": [
    "# 2019/3に在籍していたユーザー\n",
    "customer_join['end_date'] = pd.to_datetime(customer_join['end_date'])\n",
    "customer_newer = customer_join.loc[(customer_join['end_date'] >= pd.to_datetime('20190331')) | (customer_join['end_date'].isna())]\n",
    "print(len(customer_newer))\n",
    "customer_newer['end_date'].unique()"
   ]
  },
  {
   "cell_type": "code",
   "execution_count": 66,
   "metadata": {},
   "outputs": [
    {
     "name": "stdout",
     "output_type": "stream",
     "text": [
      "Group by class_name\n",
      "class_name\n",
      "オールタイム    1444\n",
      "デイタイム      696\n",
      "ナイト        813\n",
      "Name: customer_id, dtype: int64\n",
      "Group by campaign_name\n",
      "campaign_name\n",
      "入会費半額     311\n",
      "入会費無料     242\n",
      "通常       2400\n",
      "Name: customer_id, dtype: int64\n",
      "Group by gender\n",
      "gender\n",
      "F    1400\n",
      "M    1553\n",
      "Name: customer_id, dtype: int64\n",
      "Group by is_deleted\n",
      "is_deleted\n",
      "0    2842\n",
      "1     111\n",
      "Name: customer_id, dtype: int64\n"
     ]
    }
   ],
   "source": [
    "for col in ['class_name', 'campaign_name', 'gender', 'is_deleted']:\n",
    "  print(f'Group by {col}')\n",
    "  agg = customer_newer.groupby(col).count()['customer_id']\n",
    "  print(agg)"
   ]
  },
  {
   "cell_type": "code",
   "execution_count": 67,
   "metadata": {},
   "outputs": [
    {
     "data": {
      "text/html": [
       "<div>\n",
       "<style scoped>\n",
       "    .dataframe tbody tr th:only-of-type {\n",
       "        vertical-align: middle;\n",
       "    }\n",
       "\n",
       "    .dataframe tbody tr th {\n",
       "        vertical-align: top;\n",
       "    }\n",
       "\n",
       "    .dataframe thead th {\n",
       "        text-align: right;\n",
       "    }\n",
       "</style>\n",
       "<table border=\"1\" class=\"dataframe\">\n",
       "  <thead>\n",
       "    <tr style=\"text-align: right;\">\n",
       "      <th></th>\n",
       "      <th>customer_id</th>\n",
       "      <th>mean</th>\n",
       "      <th>median</th>\n",
       "      <th>min</th>\n",
       "      <th>max</th>\n",
       "    </tr>\n",
       "  </thead>\n",
       "  <tbody>\n",
       "    <tr>\n",
       "      <th>0</th>\n",
       "      <td>AS002855</td>\n",
       "      <td>4.500000</td>\n",
       "      <td>5.0</td>\n",
       "      <td>2</td>\n",
       "      <td>7</td>\n",
       "    </tr>\n",
       "    <tr>\n",
       "      <th>1</th>\n",
       "      <td>AS008805</td>\n",
       "      <td>4.000000</td>\n",
       "      <td>4.0</td>\n",
       "      <td>1</td>\n",
       "      <td>8</td>\n",
       "    </tr>\n",
       "    <tr>\n",
       "      <th>2</th>\n",
       "      <td>AS009013</td>\n",
       "      <td>2.000000</td>\n",
       "      <td>2.0</td>\n",
       "      <td>2</td>\n",
       "      <td>2</td>\n",
       "    </tr>\n",
       "    <tr>\n",
       "      <th>3</th>\n",
       "      <td>AS009373</td>\n",
       "      <td>5.083333</td>\n",
       "      <td>5.0</td>\n",
       "      <td>3</td>\n",
       "      <td>7</td>\n",
       "    </tr>\n",
       "    <tr>\n",
       "      <th>4</th>\n",
       "      <td>AS015233</td>\n",
       "      <td>7.545455</td>\n",
       "      <td>7.0</td>\n",
       "      <td>4</td>\n",
       "      <td>11</td>\n",
       "    </tr>\n",
       "  </tbody>\n",
       "</table>\n",
       "</div>"
      ],
      "text/plain": [
       "  customer_id      mean  median  min  max\n",
       "0    AS002855  4.500000     5.0    2    7\n",
       "1    AS008805  4.000000     4.0    1    8\n",
       "2    AS009013  2.000000     2.0    2    2\n",
       "3    AS009373  5.083333     5.0    3    7\n",
       "4    AS015233  7.545455     7.0    4   11"
      ]
     },
     "execution_count": 67,
     "metadata": {},
     "output_type": "execute_result"
    }
   ],
   "source": [
    "use_log['usedate'] = pd.to_datetime(use_log['usedate'])\n",
    "use_log['ym'] = use_log['usedate'].dt.strftime('%Y%m')\n",
    "use_months = use_log.groupby(['ym','customer_id'], as_index=False).count()\n",
    "use_months.rename(columns={'log_id': 'count'}, inplace=True)\n",
    "del use_months['usedate']\n",
    "\n",
    "uselog_customer = use_months.groupby('customer_id').agg(['mean', 'median', 'min', 'max'])['count']\n",
    "uselog_customer = uselog_customer.reset_index(drop=False)\n",
    "uselog_customer.head()"
   ]
  },
  {
   "cell_type": "code",
   "execution_count": 68,
   "metadata": {},
   "outputs": [
    {
     "data": {
      "text/html": [
       "<div>\n",
       "<style scoped>\n",
       "    .dataframe tbody tr th:only-of-type {\n",
       "        vertical-align: middle;\n",
       "    }\n",
       "\n",
       "    .dataframe tbody tr th {\n",
       "        vertical-align: top;\n",
       "    }\n",
       "\n",
       "    .dataframe thead th {\n",
       "        text-align: right;\n",
       "    }\n",
       "</style>\n",
       "<table border=\"1\" class=\"dataframe\">\n",
       "  <thead>\n",
       "    <tr style=\"text-align: right;\">\n",
       "      <th></th>\n",
       "      <th>customer_id</th>\n",
       "      <th>count</th>\n",
       "      <th>routine_flg</th>\n",
       "    </tr>\n",
       "  </thead>\n",
       "  <tbody>\n",
       "    <tr>\n",
       "      <th>0</th>\n",
       "      <td>AS002855</td>\n",
       "      <td>33</td>\n",
       "      <td>1</td>\n",
       "    </tr>\n",
       "    <tr>\n",
       "      <th>1</th>\n",
       "      <td>AS008805</td>\n",
       "      <td>20</td>\n",
       "      <td>1</td>\n",
       "    </tr>\n",
       "    <tr>\n",
       "      <th>2</th>\n",
       "      <td>AS009013</td>\n",
       "      <td>2</td>\n",
       "      <td>0</td>\n",
       "    </tr>\n",
       "    <tr>\n",
       "      <th>3</th>\n",
       "      <td>AS009373</td>\n",
       "      <td>44</td>\n",
       "      <td>1</td>\n",
       "    </tr>\n",
       "    <tr>\n",
       "      <th>4</th>\n",
       "      <td>AS015233</td>\n",
       "      <td>24</td>\n",
       "      <td>1</td>\n",
       "    </tr>\n",
       "  </tbody>\n",
       "</table>\n",
       "</div>"
      ],
      "text/plain": [
       "  customer_id  count  routine_flg\n",
       "0    AS002855     33            1\n",
       "1    AS008805     20            1\n",
       "2    AS009013      2            0\n",
       "3    AS009373     44            1\n",
       "4    AS015233     24            1"
      ]
     },
     "execution_count": 68,
     "metadata": {},
     "output_type": "execute_result"
    }
   ],
   "source": [
    "use_log['weekday'] = use_log['usedate'].dt.weekday\n",
    "uselog_weekday = use_log.groupby(['customer_id', 'weekday'], as_index=False).count()[['customer_id', 'ym', 'weekday', 'log_id']]\n",
    "uselog_weekday.rename(columns={'log_id': 'count'}, inplace=True)\n",
    "\n",
    "# ユーザーごとの最も利用回数が多い月での利用回数\n",
    "uselog_weekday = uselog_weekday.groupby('customer_id', as_index=False).max()[['customer_id', 'count']]\n",
    "\n",
    "uselog_weekday['routine_flg'] = 0\n",
    "# Replace values where the condition is False.\n",
    "# https://pandas.pydata.org/docs/reference/api/pandas.DataFrame.where.html\n",
    "uselog_weekday['routine_flg'] = uselog_weekday['routine_flg'].where(uselog_weekday['count']<4, 1)\n",
    "uselog_weekday.head()"
   ]
  },
  {
   "cell_type": "code",
   "execution_count": 69,
   "metadata": {},
   "outputs": [
    {
     "data": {
      "text/html": [
       "<div>\n",
       "<style scoped>\n",
       "    .dataframe tbody tr th:only-of-type {\n",
       "        vertical-align: middle;\n",
       "    }\n",
       "\n",
       "    .dataframe tbody tr th {\n",
       "        vertical-align: top;\n",
       "    }\n",
       "\n",
       "    .dataframe thead th {\n",
       "        text-align: right;\n",
       "    }\n",
       "</style>\n",
       "<table border=\"1\" class=\"dataframe\">\n",
       "  <thead>\n",
       "    <tr style=\"text-align: right;\">\n",
       "      <th></th>\n",
       "      <th>customer_id</th>\n",
       "      <th>name</th>\n",
       "      <th>class</th>\n",
       "      <th>gender</th>\n",
       "      <th>start_date</th>\n",
       "      <th>end_date</th>\n",
       "      <th>campaign_id</th>\n",
       "      <th>is_deleted</th>\n",
       "      <th>class_name</th>\n",
       "      <th>price</th>\n",
       "      <th>campaign_name</th>\n",
       "      <th>mean</th>\n",
       "      <th>median</th>\n",
       "      <th>min</th>\n",
       "      <th>max</th>\n",
       "      <th>routine_flg</th>\n",
       "    </tr>\n",
       "  </thead>\n",
       "  <tbody>\n",
       "    <tr>\n",
       "      <th>0</th>\n",
       "      <td>OA832399</td>\n",
       "      <td>XXXX</td>\n",
       "      <td>C01</td>\n",
       "      <td>F</td>\n",
       "      <td>2015-05-01</td>\n",
       "      <td>NaT</td>\n",
       "      <td>CA1</td>\n",
       "      <td>0</td>\n",
       "      <td>オールタイム</td>\n",
       "      <td>10500</td>\n",
       "      <td>通常</td>\n",
       "      <td>4.833333</td>\n",
       "      <td>5.0</td>\n",
       "      <td>2</td>\n",
       "      <td>8</td>\n",
       "      <td>1</td>\n",
       "    </tr>\n",
       "    <tr>\n",
       "      <th>1</th>\n",
       "      <td>PL270116</td>\n",
       "      <td>XXXXX</td>\n",
       "      <td>C01</td>\n",
       "      <td>M</td>\n",
       "      <td>2015-05-01</td>\n",
       "      <td>NaT</td>\n",
       "      <td>CA1</td>\n",
       "      <td>0</td>\n",
       "      <td>オールタイム</td>\n",
       "      <td>10500</td>\n",
       "      <td>通常</td>\n",
       "      <td>5.083333</td>\n",
       "      <td>5.0</td>\n",
       "      <td>3</td>\n",
       "      <td>7</td>\n",
       "      <td>1</td>\n",
       "    </tr>\n",
       "    <tr>\n",
       "      <th>2</th>\n",
       "      <td>OA974876</td>\n",
       "      <td>XXXXX</td>\n",
       "      <td>C01</td>\n",
       "      <td>M</td>\n",
       "      <td>2015-05-01</td>\n",
       "      <td>NaT</td>\n",
       "      <td>CA1</td>\n",
       "      <td>0</td>\n",
       "      <td>オールタイム</td>\n",
       "      <td>10500</td>\n",
       "      <td>通常</td>\n",
       "      <td>4.583333</td>\n",
       "      <td>5.0</td>\n",
       "      <td>3</td>\n",
       "      <td>6</td>\n",
       "      <td>1</td>\n",
       "    </tr>\n",
       "    <tr>\n",
       "      <th>3</th>\n",
       "      <td>HD024127</td>\n",
       "      <td>XXXXX</td>\n",
       "      <td>C01</td>\n",
       "      <td>F</td>\n",
       "      <td>2015-05-01</td>\n",
       "      <td>NaT</td>\n",
       "      <td>CA1</td>\n",
       "      <td>0</td>\n",
       "      <td>オールタイム</td>\n",
       "      <td>10500</td>\n",
       "      <td>通常</td>\n",
       "      <td>4.833333</td>\n",
       "      <td>4.5</td>\n",
       "      <td>2</td>\n",
       "      <td>7</td>\n",
       "      <td>1</td>\n",
       "    </tr>\n",
       "    <tr>\n",
       "      <th>4</th>\n",
       "      <td>HD661448</td>\n",
       "      <td>XXXXX</td>\n",
       "      <td>C03</td>\n",
       "      <td>F</td>\n",
       "      <td>2015-05-01</td>\n",
       "      <td>NaT</td>\n",
       "      <td>CA1</td>\n",
       "      <td>0</td>\n",
       "      <td>ナイト</td>\n",
       "      <td>6000</td>\n",
       "      <td>通常</td>\n",
       "      <td>3.916667</td>\n",
       "      <td>4.0</td>\n",
       "      <td>1</td>\n",
       "      <td>6</td>\n",
       "      <td>1</td>\n",
       "    </tr>\n",
       "  </tbody>\n",
       "</table>\n",
       "</div>"
      ],
      "text/plain": [
       "  customer_id   name class gender start_date end_date campaign_id  is_deleted  \\\n",
       "0    OA832399   XXXX   C01      F 2015-05-01      NaT         CA1           0   \n",
       "1    PL270116  XXXXX   C01      M 2015-05-01      NaT         CA1           0   \n",
       "2    OA974876  XXXXX   C01      M 2015-05-01      NaT         CA1           0   \n",
       "3    HD024127  XXXXX   C01      F 2015-05-01      NaT         CA1           0   \n",
       "4    HD661448  XXXXX   C03      F 2015-05-01      NaT         CA1           0   \n",
       "\n",
       "  class_name  price campaign_name      mean  median  min  max  routine_flg  \n",
       "0     オールタイム  10500            通常  4.833333     5.0    2    8            1  \n",
       "1     オールタイム  10500            通常  5.083333     5.0    3    7            1  \n",
       "2     オールタイム  10500            通常  4.583333     5.0    3    6            1  \n",
       "3     オールタイム  10500            通常  4.833333     4.5    2    7            1  \n",
       "4        ナイト   6000            通常  3.916667     4.0    1    6            1  "
      ]
     },
     "execution_count": 69,
     "metadata": {},
     "output_type": "execute_result"
    }
   ],
   "source": [
    "customer_join = pd.merge(customer_join, uselog_customer, on='customer_id', how='left')\n",
    "customer_join = pd.merge(customer_join, uselog_weekday[['customer_id', 'routine_flg']], on='customer_id', how='left')\n",
    "customer_join.head()"
   ]
  },
  {
   "cell_type": "code",
   "execution_count": 73,
   "metadata": {},
   "outputs": [
    {
     "data": {
      "text/html": [
       "<div>\n",
       "<style scoped>\n",
       "    .dataframe tbody tr th:only-of-type {\n",
       "        vertical-align: middle;\n",
       "    }\n",
       "\n",
       "    .dataframe tbody tr th {\n",
       "        vertical-align: top;\n",
       "    }\n",
       "\n",
       "    .dataframe thead th {\n",
       "        text-align: right;\n",
       "    }\n",
       "</style>\n",
       "<table border=\"1\" class=\"dataframe\">\n",
       "  <thead>\n",
       "    <tr style=\"text-align: right;\">\n",
       "      <th></th>\n",
       "      <th>mean</th>\n",
       "      <th>median</th>\n",
       "      <th>min</th>\n",
       "      <th>max</th>\n",
       "    </tr>\n",
       "  </thead>\n",
       "  <tbody>\n",
       "    <tr>\n",
       "      <th>count</th>\n",
       "      <td>4192.000000</td>\n",
       "      <td>4192.000000</td>\n",
       "      <td>4192.000000</td>\n",
       "      <td>4192.000000</td>\n",
       "    </tr>\n",
       "    <tr>\n",
       "      <th>mean</th>\n",
       "      <td>5.333127</td>\n",
       "      <td>5.250596</td>\n",
       "      <td>3.041269</td>\n",
       "      <td>7.823950</td>\n",
       "    </tr>\n",
       "    <tr>\n",
       "      <th>std</th>\n",
       "      <td>1.777533</td>\n",
       "      <td>1.874874</td>\n",
       "      <td>1.951565</td>\n",
       "      <td>2.168959</td>\n",
       "    </tr>\n",
       "    <tr>\n",
       "      <th>min</th>\n",
       "      <td>1.000000</td>\n",
       "      <td>1.000000</td>\n",
       "      <td>1.000000</td>\n",
       "      <td>1.000000</td>\n",
       "    </tr>\n",
       "    <tr>\n",
       "      <th>25%</th>\n",
       "      <td>4.250000</td>\n",
       "      <td>4.000000</td>\n",
       "      <td>2.000000</td>\n",
       "      <td>7.000000</td>\n",
       "    </tr>\n",
       "    <tr>\n",
       "      <th>50%</th>\n",
       "      <td>5.000000</td>\n",
       "      <td>5.000000</td>\n",
       "      <td>3.000000</td>\n",
       "      <td>8.000000</td>\n",
       "    </tr>\n",
       "    <tr>\n",
       "      <th>75%</th>\n",
       "      <td>6.416667</td>\n",
       "      <td>6.500000</td>\n",
       "      <td>4.000000</td>\n",
       "      <td>9.000000</td>\n",
       "    </tr>\n",
       "    <tr>\n",
       "      <th>max</th>\n",
       "      <td>12.000000</td>\n",
       "      <td>12.000000</td>\n",
       "      <td>12.000000</td>\n",
       "      <td>14.000000</td>\n",
       "    </tr>\n",
       "  </tbody>\n",
       "</table>\n",
       "</div>"
      ],
      "text/plain": [
       "              mean       median          min          max\n",
       "count  4192.000000  4192.000000  4192.000000  4192.000000\n",
       "mean      5.333127     5.250596     3.041269     7.823950\n",
       "std       1.777533     1.874874     1.951565     2.168959\n",
       "min       1.000000     1.000000     1.000000     1.000000\n",
       "25%       4.250000     4.000000     2.000000     7.000000\n",
       "50%       5.000000     5.000000     3.000000     8.000000\n",
       "75%       6.416667     6.500000     4.000000     9.000000\n",
       "max      12.000000    12.000000    12.000000    14.000000"
      ]
     },
     "execution_count": 73,
     "metadata": {},
     "output_type": "execute_result"
    }
   ],
   "source": [
    "# 会員期間\n",
    "customer_join['calc_date'] = customer_join['end_date'].fillna(pd.to_datetime('20190430'))\n",
    "customer_join['membership_period'] = customer_join['calc_date'] - customer_join['start_date']\n",
    "# 列のmeanは顧客毎の月内平均利用回数\n",
    "# 集計値のmeanは平均利用回数の平均\n",
    "# 平均して「平均５回程度」使っている\n",
    "customer_join[['mean', 'median', 'min', 'max']].describe()"
   ]
  },
  {
   "cell_type": "code",
   "execution_count": 75,
   "metadata": {},
   "outputs": [
    {
     "data": {
      "text/plain": [
       "routine_flg\n",
       "0     368\n",
       "1    3824\n",
       "Name: customer_id, dtype: int64"
      ]
     },
     "execution_count": 75,
     "metadata": {},
     "output_type": "execute_result"
    }
   ],
   "source": [
    "# 定期利用している会員が多い\n",
    "customer_join.groupby('routine_flg').count()['customer_id']"
   ]
  },
  {
   "cell_type": "code",
   "execution_count": 78,
   "metadata": {},
   "outputs": [
    {
     "data": {
      "text/plain": [
       "(array([857., 694., 475., 368., 311., 331., 323., 237., 288., 308.]),\n",
       " array([  44. ,  185.6,  327.2,  468.8,  610.4,  752. ,  893.6, 1035.2,\n",
       "        1176.8, 1318.4, 1460. ]),\n",
       " <BarContainer object of 10 artists>)"
      ]
     },
     "execution_count": 78,
     "metadata": {},
     "output_type": "execute_result"
    },
    {
     "data": {
      "image/png": "[encoded data removed]",
      "text/plain": [
       "<Figure size 432x288 with 1 Axes>"
      ]
     },
     "metadata": {
      "needs_background": "light"
     },
     "output_type": "display_data"
    }
   ],
   "source": [
    "import matplotlib.pyplot as plt\n",
    "%matplotlib inline\n",
    "plt.hist(customer_join['membership_period'].dt.days)"
   ]
  },
  {
   "cell_type": "code",
   "execution_count": 80,
   "metadata": {},
   "outputs": [
    {
     "name": "stdout",
     "output_type": "stream",
     "text": [
      "charn user\n",
      "       is_deleted         price         mean       median          min  \\\n",
      "count      1350.0   1350.000000  1350.000000  1350.000000  1350.000000   \n",
      "mean          1.0   8595.555556     3.865474     3.621852     1.821481   \n",
      "std           0.0   1949.163652     1.246385     1.270847     0.976361   \n",
      "min           1.0   6000.000000     1.000000     1.000000     1.000000   \n",
      "25%           1.0   6000.000000     3.000000     3.000000     1.000000   \n",
      "50%           1.0   7500.000000     4.000000     4.000000     2.000000   \n",
      "75%           1.0  10500.000000     4.666667     4.500000     2.000000   \n",
      "max           1.0  10500.000000     9.000000     9.000000     8.000000   \n",
      "\n",
      "               max  routine_flg            membership_period  \n",
      "count  1350.000000  1350.000000                         1350  \n",
      "mean      6.461481     0.755556            270 days 05:38:08  \n",
      "std       2.584021     0.429917  155 days 02:18:43.903705816  \n",
      "min       1.000000     0.000000             44 days 00:00:00  \n",
      "25%       4.000000     1.000000            150 days 00:00:00  \n",
      "50%       7.000000     1.000000            242 days 00:00:00  \n",
      "75%       8.000000     1.000000            364 days 00:00:00  \n",
      "max      13.000000     1.000000            729 days 00:00:00  \n"
     ]
    }
   ],
   "source": [
    "# 退会ユーザーと継続ユーザーの違い\n",
    "customer_charn = customer_join.loc[customer_join['is_deleted']==1]\n",
    "print('charn user')\n",
    "print(customer_charn.describe())\n"
   ]
  },
  {
   "cell_type": "code",
   "execution_count": 82,
   "metadata": {},
   "outputs": [
    {
     "name": "stdout",
     "output_type": "stream",
     "text": [
      "stay user\n",
      "       is_deleted         price         mean       median          min  \\\n",
      "count      2842.0   2842.000000  2842.000000  2842.000000  2842.000000   \n",
      "mean          0.0   8542.927516     6.030288     6.024279     3.620690   \n",
      "std           0.0   1977.189779     1.553587     1.599765     2.030488   \n",
      "min           0.0   6000.000000     3.166667     3.000000     1.000000   \n",
      "25%           0.0   6000.000000     4.833333     5.000000     2.000000   \n",
      "50%           0.0   7500.000000     5.583333     5.500000     3.000000   \n",
      "75%           0.0  10500.000000     7.178030     7.000000     5.000000   \n",
      "max           0.0  10500.000000    12.000000    12.000000    12.000000   \n",
      "\n",
      "               max  routine_flg            membership_period  \n",
      "count  2842.000000  2842.000000                         2842  \n",
      "mean      8.471147     0.986629  756 days 01:17:31.372273048  \n",
      "std       1.571048     0.114877  420 days 20:45:11.520227816  \n",
      "min       5.000000     0.000000             46 days 00:00:00  \n",
      "25%       7.000000     1.000000            390 days 00:00:00  \n",
      "50%       8.000000     1.000000            759 days 00:00:00  \n",
      "75%      10.000000     1.000000           1094 days 00:00:00  \n",
      "max      14.000000     1.000000           1460 days 00:00:00  \n"
     ]
    }
   ],
   "source": [
    "customer_stay = customer_join.loc[customer_join['is_deleted']==0]\n",
    "print('stay user')\n",
    "print(customer_stay.describe())\n"
   ]
  },
  {
   "cell_type": "code",
   "execution_count": null,
   "metadata": {},
   "outputs": [],
   "source": [
    "customer_join.to_csv('3/customer_join.csv', index=False)"
   ]
  }
 ],
 "metadata": {
  "interpreter": {
   "hash": "53dcff9c43884449f7dc1e7e541f23fc63052845d6a67176d9848b92fcb5c7f0"
  },
  "kernelspec": {
   "display_name": "Python 3.10.0 64-bit",
   "language": "python",
   "name": "python3"
  },
  "language_info": {
   "codemirror_mode": {
    "name": "ipython",
    "version": 3
   },
   "file_extension": ".py",
   "mimetype": "text/x-python",
   "name": "python",
   "nbconvert_exporter": "python",
   "pygments_lexer": "ipython3",
   "version": "3.10.0"
  },
  "orig_nbformat": 4
 },
 "nbformat": 4,
 "nbformat_minor": 2
}

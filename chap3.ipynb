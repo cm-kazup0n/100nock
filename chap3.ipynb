{
 "cells": [
  {
   "cell_type": "code",
   "execution_count": 2,
   "metadata": {},
   "outputs": [],
   "source": [
    "import pandas as pd\n"
   ]
  },
  {
   "cell_type": "code",
   "execution_count": 3,
   "metadata": {},
   "outputs": [
    {
     "name": "stdout",
     "output_type": "stream",
     "text": [
      "3章_顧客の全体像を把握する１０本ノック.ipynb         class_master.csv\n",
      "3章_顧客の全体像を把握する１０本ノック_answer.ipynb  customer_master.csv\n",
      "campaign_master.csv                                  use_log.csv\n"
     ]
    }
   ],
   "source": [
    "! ls 3"
   ]
  },
  {
   "cell_type": "code",
   "execution_count": 5,
   "metadata": {},
   "outputs": [
    {
     "name": "stdout",
     "output_type": "stream",
     "text": [
      "            log_id customer_id     usedate\n",
      "0  L00000049012330    AS009373  2018-04-01\n",
      "1  L00000049012331    AS015315  2018-04-01\n",
      "2  L00000049012332    AS040841  2018-04-01\n",
      "3  L00000049012333    AS046594  2018-04-01\n",
      "4  L00000049012334    AS073285  2018-04-01\n",
      "                 log_id customer_id     usedate\n",
      "count            197428      197428      197428\n",
      "unique           197428        4192         365\n",
      "top     L00000049012330    GD960674  2019-02-18\n",
      "freq                  1         105         619\n"
     ]
    }
   ],
   "source": [
    "use_log = pd.read_csv('3/use_log.csv')\n",
    "print(use_log.head())\n",
    "print(use_log.describe())"
   ]
  },
  {
   "cell_type": "code",
   "execution_count": 6,
   "metadata": {},
   "outputs": [
    {
     "name": "stdout",
     "output_type": "stream",
     "text": [
      "  customer_id   name class gender           start_date end_date campaign_id  \\\n",
      "0    OA832399   XXXX   C01      F  2015-05-01 00:00:00      NaN         CA1   \n",
      "1    PL270116  XXXXX   C01      M  2015-05-01 00:00:00      NaN         CA1   \n",
      "2    OA974876  XXXXX   C01      M  2015-05-01 00:00:00      NaN         CA1   \n",
      "3    HD024127  XXXXX   C01      F  2015-05-01 00:00:00      NaN         CA1   \n",
      "4    HD661448  XXXXX   C03      F  2015-05-01 00:00:00      NaN         CA1   \n",
      "\n",
      "   is_deleted  \n",
      "0           0  \n",
      "1           0  \n",
      "2           0  \n",
      "3           0  \n",
      "4           0  \n",
      "        is_deleted\n",
      "count  4192.000000\n",
      "mean      0.322042\n",
      "std       0.467315\n",
      "min       0.000000\n",
      "25%       0.000000\n",
      "50%       0.000000\n",
      "75%       1.000000\n",
      "max       1.000000\n"
     ]
    }
   ],
   "source": [
    "customer = pd.read_csv('3/customer_master.csv')\n",
    "print(customer.head())\n",
    "print(customer.describe())"
   ]
  },
  {
   "cell_type": "code",
   "execution_count": 8,
   "metadata": {},
   "outputs": [
    {
     "name": "stdout",
     "output_type": "stream",
     "text": [
      "  campaign_id campaign_name\n",
      "0         CA1            通常\n",
      "1         CA2         入会費半額\n",
      "2         CA3         入会費無料\n",
      "       campaign_id campaign_name\n",
      "count            3             3\n",
      "unique           3             3\n",
      "top            CA1            通常\n",
      "freq             1             1\n"
     ]
    }
   ],
   "source": [
    "campaign_master = pd.read_csv('3/campaign_master.csv')\n",
    "print(campaign_master.head())\n",
    "print(campaign_master.describe())"
   ]
  },
  {
   "cell_type": "code",
   "execution_count": 9,
   "metadata": {},
   "outputs": [
    {
     "name": "stdout",
     "output_type": "stream",
     "text": [
      "  class class_name  price\n",
      "0   C01     オールタイム  10500\n",
      "1   C02      デイタイム   7500\n",
      "2   C03        ナイト   6000\n",
      "              price\n",
      "count      3.000000\n",
      "mean    8000.000000\n",
      "std     2291.287847\n",
      "min     6000.000000\n",
      "25%     6750.000000\n",
      "50%     7500.000000\n",
      "75%     9000.000000\n",
      "max    10500.000000\n"
     ]
    }
   ],
   "source": [
    "class_master = pd.read_csv('3/class_master.csv')\n",
    "print(class_master.head())\n",
    "print(class_master.describe())"
   ]
  },
  {
   "cell_type": "code",
   "execution_count": null,
   "metadata": {},
   "outputs": [],
   "source": []
  }
 ],
 "metadata": {
  "interpreter": {
   "hash": "53dcff9c43884449f7dc1e7e541f23fc63052845d6a67176d9848b92fcb5c7f0"
  },
  "kernelspec": {
   "display_name": "Python 3.10.0 64-bit",
   "language": "python",
   "name": "python3"
  },
  "language_info": {
   "codemirror_mode": {
    "name": "ipython",
    "version": 3
   },
   "file_extension": ".py",
   "mimetype": "text/x-python",
   "name": "python",
   "nbconvert_exporter": "python",
   "pygments_lexer": "ipython3",
   "version": "3.10.0"
  },
  "orig_nbformat": 4
 },
 "nbformat": 4,
 "nbformat_minor": 2
}

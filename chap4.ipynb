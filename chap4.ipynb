{
 "cells": [
  {
   "cell_type": "code",
   "execution_count": 74,
   "metadata": {},
   "outputs": [],
   "source": [
    "import pandas as pd\n"
   ]
  },
  {
   "cell_type": "code",
   "execution_count": 75,
   "metadata": {},
   "outputs": [
    {
     "name": "stderr",
     "output_type": "stream",
     "text": [
      "UsageError: Line magic function `%` not found.\n"
     ]
    }
   ],
   "source": [
    "% pip install sklearn"
   ]
  },
  {
   "cell_type": "code",
   "execution_count": 76,
   "metadata": {},
   "outputs": [
    {
     "data": {
      "text/plain": [
       "log_id         0\n",
       "customer_id    0\n",
       "usedate        0\n",
       "dtype: int64"
      ]
     },
     "execution_count": 76,
     "metadata": {},
     "output_type": "execute_result"
    }
   ],
   "source": [
    "uselog = pd.read_csv('3/use_log.csv')\n",
    "uselog.isnull().sum()"
   ]
  },
  {
   "cell_type": "code",
   "execution_count": 77,
   "metadata": {},
   "outputs": [
    {
     "data": {
      "text/plain": [
       "customer_id             0\n",
       "name                    0\n",
       "class                   0\n",
       "gender                  0\n",
       "start_date              0\n",
       "end_date             2842\n",
       "campaign_id             0\n",
       "is_deleted              0\n",
       "class_name              0\n",
       "price                   0\n",
       "campaign_name           0\n",
       "mean                    0\n",
       "median                  0\n",
       "min                     0\n",
       "max                     0\n",
       "routine_flg             0\n",
       "calc_date               0\n",
       "membership_period       0\n",
       "dtype: int64"
      ]
     },
     "execution_count": 77,
     "metadata": {},
     "output_type": "execute_result"
    }
   ],
   "source": [
    "customer = pd.read_csv('3/customer_join.csv')\n",
    "customer.isnull().sum()"
   ]
  },
  {
   "cell_type": "code",
   "execution_count": 78,
   "metadata": {},
   "outputs": [
    {
     "data": {
      "text/plain": [
       "count    4192.000000\n",
       "mean      599.599714\n",
       "std       423.505269\n",
       "min        44.000000\n",
       "25%       231.000000\n",
       "50%       487.000000\n",
       "75%       941.000000\n",
       "max      1460.000000\n",
       "Name: membership_period, dtype: float64"
      ]
     },
     "execution_count": 78,
     "metadata": {},
     "output_type": "execute_result"
    }
   ],
   "source": [
    "customer_clustering = customer[['mean', 'median', 'max', 'min', 'membership_period']]\n",
    "customer_clustering['membership_period'].describe()"
   ]
  },
  {
   "cell_type": "code",
   "execution_count": 79,
   "metadata": {},
   "outputs": [
    {
     "name": "stdout",
     "output_type": "stream",
     "text": [
      "[1 2 3 0]\n"
     ]
    },
    {
     "name": "stderr",
     "output_type": "stream",
     "text": [
      "/var/folders/0d/scqr5rf11r7fzfjqp7ytwx0r0000gq/T/ipykernel_12330/1646406394.py:9: SettingWithCopyWarning: \n",
      "A value is trying to be set on a copy of a slice from a DataFrame.\n",
      "Try using .loc[row_indexer,col_indexer] = value instead\n",
      "\n",
      "See the caveats in the documentation: https://pandas.pydata.org/pandas-docs/stable/user_guide/indexing.html#returning-a-view-versus-a-copy\n",
      "  customer_clustering['cluster'] = clusters.labels_\n"
     ]
    },
    {
     "data": {
      "text/html": [
       "<div>\n",
       "<style scoped>\n",
       "    .dataframe tbody tr th:only-of-type {\n",
       "        vertical-align: middle;\n",
       "    }\n",
       "\n",
       "    .dataframe tbody tr th {\n",
       "        vertical-align: top;\n",
       "    }\n",
       "\n",
       "    .dataframe thead th {\n",
       "        text-align: right;\n",
       "    }\n",
       "</style>\n",
       "<table border=\"1\" class=\"dataframe\">\n",
       "  <thead>\n",
       "    <tr style=\"text-align: right;\">\n",
       "      <th></th>\n",
       "      <th>mean</th>\n",
       "      <th>median</th>\n",
       "      <th>max</th>\n",
       "      <th>min</th>\n",
       "      <th>membership_period</th>\n",
       "      <th>cluster</th>\n",
       "    </tr>\n",
       "  </thead>\n",
       "  <tbody>\n",
       "    <tr>\n",
       "      <th>0</th>\n",
       "      <td>4.833333</td>\n",
       "      <td>5.0</td>\n",
       "      <td>8</td>\n",
       "      <td>2</td>\n",
       "      <td>1460</td>\n",
       "      <td>1</td>\n",
       "    </tr>\n",
       "    <tr>\n",
       "      <th>1</th>\n",
       "      <td>5.083333</td>\n",
       "      <td>5.0</td>\n",
       "      <td>7</td>\n",
       "      <td>3</td>\n",
       "      <td>1460</td>\n",
       "      <td>1</td>\n",
       "    </tr>\n",
       "    <tr>\n",
       "      <th>2</th>\n",
       "      <td>4.583333</td>\n",
       "      <td>5.0</td>\n",
       "      <td>6</td>\n",
       "      <td>3</td>\n",
       "      <td>1460</td>\n",
       "      <td>1</td>\n",
       "    </tr>\n",
       "    <tr>\n",
       "      <th>3</th>\n",
       "      <td>4.833333</td>\n",
       "      <td>4.5</td>\n",
       "      <td>7</td>\n",
       "      <td>2</td>\n",
       "      <td>1460</td>\n",
       "      <td>1</td>\n",
       "    </tr>\n",
       "    <tr>\n",
       "      <th>4</th>\n",
       "      <td>3.916667</td>\n",
       "      <td>4.0</td>\n",
       "      <td>6</td>\n",
       "      <td>1</td>\n",
       "      <td>1460</td>\n",
       "      <td>1</td>\n",
       "    </tr>\n",
       "  </tbody>\n",
       "</table>\n",
       "</div>"
      ],
      "text/plain": [
       "       mean  median  max  min  membership_period  cluster\n",
       "0  4.833333     5.0    8    2               1460        1\n",
       "1  5.083333     5.0    7    3               1460        1\n",
       "2  4.583333     5.0    6    3               1460        1\n",
       "3  4.833333     4.5    7    2               1460        1\n",
       "4  3.916667     4.0    6    1               1460        1"
      ]
     },
     "execution_count": 79,
     "metadata": {},
     "output_type": "execute_result"
    }
   ],
   "source": [
    "from sklearn.cluster import KMeans\n",
    "from sklearn.preprocessing import StandardScaler\n",
    "\n",
    "sc = StandardScaler()\n",
    "customer_clustering_sc = sc.fit_transform(customer_clustering)\n",
    "kmeans = KMeans(n_clusters=4, random_state=0)\n",
    "clusters = kmeans.fit(customer_clustering_sc)\n",
    "\n",
    "customer_clustering['cluster'] = clusters.labels_\n",
    "print(customer_clustering['cluster'].unique())\n",
    "customer_clustering.head()"
   ]
  },
  {
   "cell_type": "code",
   "execution_count": 80,
   "metadata": {},
   "outputs": [
    {
     "data": {
      "text/html": [
       "<div>\n",
       "<style scoped>\n",
       "    .dataframe tbody tr th:only-of-type {\n",
       "        vertical-align: middle;\n",
       "    }\n",
       "\n",
       "    .dataframe tbody tr th {\n",
       "        vertical-align: top;\n",
       "    }\n",
       "\n",
       "    .dataframe thead th {\n",
       "        text-align: right;\n",
       "    }\n",
       "</style>\n",
       "<table border=\"1\" class=\"dataframe\">\n",
       "  <thead>\n",
       "    <tr style=\"text-align: right;\">\n",
       "      <th></th>\n",
       "      <th>mean_in_month</th>\n",
       "      <th>median_in_month</th>\n",
       "      <th>max_in_month</th>\n",
       "      <th>min_in_month</th>\n",
       "      <th>membership_period</th>\n",
       "    </tr>\n",
       "    <tr>\n",
       "      <th>cluster</th>\n",
       "      <th></th>\n",
       "      <th></th>\n",
       "      <th></th>\n",
       "      <th></th>\n",
       "      <th></th>\n",
       "    </tr>\n",
       "  </thead>\n",
       "  <tbody>\n",
       "    <tr>\n",
       "      <th>0</th>\n",
       "      <td>8.054608</td>\n",
       "      <td>8.039598</td>\n",
       "      <td>10.009456</td>\n",
       "      <td>6.160757</td>\n",
       "      <td>237.700946</td>\n",
       "    </tr>\n",
       "    <tr>\n",
       "      <th>1</th>\n",
       "      <td>4.676091</td>\n",
       "      <td>4.670264</td>\n",
       "      <td>7.231815</td>\n",
       "      <td>2.153477</td>\n",
       "      <td>1151.114309</td>\n",
       "    </tr>\n",
       "    <tr>\n",
       "      <th>2</th>\n",
       "      <td>3.049270</td>\n",
       "      <td>2.882740</td>\n",
       "      <td>4.745718</td>\n",
       "      <td>1.652174</td>\n",
       "      <td>308.872200</td>\n",
       "    </tr>\n",
       "    <tr>\n",
       "      <th>3</th>\n",
       "      <td>5.522518</td>\n",
       "      <td>5.373129</td>\n",
       "      <td>8.743263</td>\n",
       "      <td>2.686377</td>\n",
       "      <td>477.506737</td>\n",
       "    </tr>\n",
       "  </tbody>\n",
       "</table>\n",
       "</div>"
      ],
      "text/plain": [
       "         mean_in_month  median_in_month  max_in_month  min_in_month  \\\n",
       "cluster                                                               \n",
       "0             8.054608         8.039598     10.009456      6.160757   \n",
       "1             4.676091         4.670264      7.231815      2.153477   \n",
       "2             3.049270         2.882740      4.745718      1.652174   \n",
       "3             5.522518         5.373129      8.743263      2.686377   \n",
       "\n",
       "         membership_period  \n",
       "cluster                     \n",
       "0               237.700946  \n",
       "1              1151.114309  \n",
       "2               308.872200  \n",
       "3               477.506737  "
      ]
     },
     "execution_count": 80,
     "metadata": {},
     "output_type": "execute_result"
    }
   ],
   "source": [
    "customer_clustering.columns = ['mean_in_month', 'median_in_month', 'max_in_month', 'min_in_month', 'membership_period', 'cluster']\n",
    "customer_clustering.groupby('cluster').mean()"
   ]
  },
  {
   "cell_type": "code",
   "execution_count": 81,
   "metadata": {},
   "outputs": [],
   "source": [
    "from sklearn.decomposition import PCA\n",
    "X = customer_clustering_sc\n",
    "pca = PCA(n_components=2)\n",
    "pca.fit(X)\n",
    "x_pca = pca.transform(X)\n",
    "pca_df = pd.DataFrame(x_pca)\n",
    "pca_df['cluster'] = customer_clustering['cluster']"
   ]
  },
  {
   "cell_type": "code",
   "execution_count": 82,
   "metadata": {},
   "outputs": [
    {
     "name": "stderr",
     "output_type": "stream",
     "text": [
      "UsageError: Line magic function `%matplotlib_inline` not found.\n"
     ]
    }
   ],
   "source": [
    "%matplotlib_inline"
   ]
  },
  {
   "cell_type": "code",
   "execution_count": 83,
   "metadata": {},
   "outputs": [
    {
     "name": "stdout",
     "output_type": "stream",
     "text": [
      "[0.69084563 0.18892113]\n"
     ]
    }
   ],
   "source": [
    "\n",
    "print(pca.explained_variance_ratio_)\n"
   ]
  },
  {
   "cell_type": "code",
   "execution_count": 84,
   "metadata": {},
   "outputs": [
    {
     "data": {
      "image/png": "[encoded data removed]",
      "text/plain": [
       "<Figure size 432x288 with 1 Axes>"
      ]
     },
     "metadata": {
      "needs_background": "light"
     },
     "output_type": "display_data"
    }
   ],
   "source": [
    "import matplotlib.pyplot as plt\n",
    "\n",
    "for i in customer_clustering['cluster'].unique():\n",
    "  tmp = pca_df.loc[pca_df['cluster']==i]\n",
    "  plt.scatter(tmp[0], tmp[1])"
   ]
  },
  {
   "cell_type": "code",
   "execution_count": 85,
   "metadata": {},
   "outputs": [
    {
     "name": "stdout",
     "output_type": "stream",
     "text": [
      "   cluster  is_deleted  customer_id\n",
      "0        0           0          827\n",
      "1        0           1           19\n",
      "2        1           0         1230\n",
      "3        1           1           21\n",
      "4        2           1          759\n",
      "5        3           0          785\n",
      "6        3           1          551\n"
     ]
    }
   ],
   "source": [
    "customer_clustering_merged = pd.concat([customer_clustering, customer], axis=1)\n",
    "grouped = customer_clustering_merged.groupby(['cluster', 'is_deleted'], as_index=False).count()[['cluster', 'is_deleted', 'customer_id']]\n",
    "print(grouped)\n",
    "\n",
    "\n"
   ]
  },
  {
   "cell_type": "markdown",
   "metadata": {},
   "source": [
    "```\n",
    "\tmean_in_month\tmedian_in_month\tmax_in_month\tmin_in_month\tmembership_period\n",
    "cluster\t\t\t\t\t\n",
    "0\t8.054608\t8.039598\t10.009456\t6.160757\t237.700946\n",
    "1\t4.676091\t4.670264\t7.231815\t2.153477\t1151.114309\n",
    "2\t3.049270\t2.882740\t4.745718\t1.652174\t308.872200\n",
    "3\t5.522518\t5.373129\t8.743263\t2.686377\t477.506737\n",
    "```\n",
    "\n",
    "```\n",
    " cluster  is_deleted  customer_id\n",
    "0        0           0          827\n",
    "1        0           1           19\n",
    "2        1           0         1230\n",
    "3        1           1           21\n",
    "4        2           1          759\n",
    "5        3           0          785\n",
    "6        3           1          551\n",
    "```"
   ]
  },
  {
   "cell_type": "code",
   "execution_count": 87,
   "metadata": {},
   "outputs": [
    {
     "data": {
      "text/html": [
       "<div>\n",
       "<style scoped>\n",
       "    .dataframe tbody tr th:only-of-type {\n",
       "        vertical-align: middle;\n",
       "    }\n",
       "\n",
       "    .dataframe tbody tr th {\n",
       "        vertical-align: top;\n",
       "    }\n",
       "\n",
       "    .dataframe thead th {\n",
       "        text-align: right;\n",
       "    }\n",
       "</style>\n",
       "<table border=\"1\" class=\"dataframe\">\n",
       "  <thead>\n",
       "    <tr style=\"text-align: right;\">\n",
       "      <th></th>\n",
       "      <th>cluster</th>\n",
       "      <th>routine_flg</th>\n",
       "      <th>customer_id</th>\n",
       "    </tr>\n",
       "  </thead>\n",
       "  <tbody>\n",
       "    <tr>\n",
       "      <th>0</th>\n",
       "      <td>0</td>\n",
       "      <td>0</td>\n",
       "      <td>39</td>\n",
       "    </tr>\n",
       "    <tr>\n",
       "      <th>1</th>\n",
       "      <td>0</td>\n",
       "      <td>1</td>\n",
       "      <td>807</td>\n",
       "    </tr>\n",
       "    <tr>\n",
       "      <th>2</th>\n",
       "      <td>1</td>\n",
       "      <td>0</td>\n",
       "      <td>1</td>\n",
       "    </tr>\n",
       "    <tr>\n",
       "      <th>3</th>\n",
       "      <td>1</td>\n",
       "      <td>1</td>\n",
       "      <td>1250</td>\n",
       "    </tr>\n",
       "    <tr>\n",
       "      <th>4</th>\n",
       "      <td>2</td>\n",
       "      <td>0</td>\n",
       "      <td>281</td>\n",
       "    </tr>\n",
       "    <tr>\n",
       "      <th>5</th>\n",
       "      <td>2</td>\n",
       "      <td>1</td>\n",
       "      <td>478</td>\n",
       "    </tr>\n",
       "    <tr>\n",
       "      <th>6</th>\n",
       "      <td>3</td>\n",
       "      <td>0</td>\n",
       "      <td>47</td>\n",
       "    </tr>\n",
       "    <tr>\n",
       "      <th>7</th>\n",
       "      <td>3</td>\n",
       "      <td>1</td>\n",
       "      <td>1289</td>\n",
       "    </tr>\n",
       "  </tbody>\n",
       "</table>\n",
       "</div>"
      ],
      "text/plain": [
       "   cluster  routine_flg  customer_id\n",
       "0        0            0           39\n",
       "1        0            1          807\n",
       "2        1            0            1\n",
       "3        1            1         1250\n",
       "4        2            0          281\n",
       "5        2            1          478\n",
       "6        3            0           47\n",
       "7        3            1         1289"
      ]
     },
     "execution_count": 87,
     "metadata": {},
     "output_type": "execute_result"
    }
   ],
   "source": [
    "customer_clustering_merged.groupby(['cluster', 'routine_flg'], as_index=False).count()[['cluster', 'routine_flg', 'customer_id']]"
   ]
  },
  {
   "cell_type": "code",
   "execution_count": 104,
   "metadata": {},
   "outputs": [
    {
     "name": "stderr",
     "output_type": "stream",
     "text": [
      "/Users/sasaki.kazuhiro/.asdf/installs/python/3.10.0/lib/python3.10/site-packages/pandas/core/frame.py:5039: SettingWithCopyWarning: \n",
      "A value is trying to be set on a copy of a slice from a DataFrame\n",
      "\n",
      "See the caveats in the documentation: https://pandas.pydata.org/pandas-docs/stable/user_guide/indexing.html#returning-a-view-versus-a-copy\n",
      "  return super().rename(\n"
     ]
    },
    {
     "data": {
      "text/html": [
       "<div>\n",
       "<style scoped>\n",
       "    .dataframe tbody tr th:only-of-type {\n",
       "        vertical-align: middle;\n",
       "    }\n",
       "\n",
       "    .dataframe tbody tr th {\n",
       "        vertical-align: top;\n",
       "    }\n",
       "\n",
       "    .dataframe thead th {\n",
       "        text-align: right;\n",
       "    }\n",
       "</style>\n",
       "<table border=\"1\" class=\"dataframe\">\n",
       "  <thead>\n",
       "    <tr style=\"text-align: right;\">\n",
       "      <th></th>\n",
       "      <th>ym</th>\n",
       "      <th>customer_id</th>\n",
       "      <th>count_pred</th>\n",
       "      <th>count_0</th>\n",
       "      <th>count_1</th>\n",
       "      <th>count_2</th>\n",
       "      <th>count_3</th>\n",
       "      <th>count_4</th>\n",
       "      <th>count_5</th>\n",
       "    </tr>\n",
       "  </thead>\n",
       "  <tbody>\n",
       "    <tr>\n",
       "      <th>0</th>\n",
       "      <td>201903</td>\n",
       "      <td>AS002855</td>\n",
       "      <td>4</td>\n",
       "      <td>5.0</td>\n",
       "      <td>6.0</td>\n",
       "      <td>2.0</td>\n",
       "      <td>5.0</td>\n",
       "      <td>3.0</td>\n",
       "      <td>7.0</td>\n",
       "    </tr>\n",
       "    <tr>\n",
       "      <th>1</th>\n",
       "      <td>201903</td>\n",
       "      <td>AS008805</td>\n",
       "      <td>1</td>\n",
       "      <td>6.0</td>\n",
       "      <td>1.0</td>\n",
       "      <td>5.0</td>\n",
       "      <td>3.0</td>\n",
       "      <td>2.0</td>\n",
       "      <td>2.0</td>\n",
       "    </tr>\n",
       "    <tr>\n",
       "      <th>2</th>\n",
       "      <td>201903</td>\n",
       "      <td>AS009373</td>\n",
       "      <td>5</td>\n",
       "      <td>6.0</td>\n",
       "      <td>7.0</td>\n",
       "      <td>4.0</td>\n",
       "      <td>4.0</td>\n",
       "      <td>5.0</td>\n",
       "      <td>6.0</td>\n",
       "    </tr>\n",
       "    <tr>\n",
       "      <th>3</th>\n",
       "      <td>201903</td>\n",
       "      <td>AS015233</td>\n",
       "      <td>8</td>\n",
       "      <td>4.0</td>\n",
       "      <td>9.0</td>\n",
       "      <td>9.0</td>\n",
       "      <td>7.0</td>\n",
       "      <td>7.0</td>\n",
       "      <td>9.0</td>\n",
       "    </tr>\n",
       "    <tr>\n",
       "      <th>4</th>\n",
       "      <td>201903</td>\n",
       "      <td>AS015315</td>\n",
       "      <td>4</td>\n",
       "      <td>5.0</td>\n",
       "      <td>5.0</td>\n",
       "      <td>5.0</td>\n",
       "      <td>7.0</td>\n",
       "      <td>4.0</td>\n",
       "      <td>7.0</td>\n",
       "    </tr>\n",
       "  </tbody>\n",
       "</table>\n",
       "</div>"
      ],
      "text/plain": [
       "       ym customer_id  count_pred  count_0  count_1  count_2  count_3  \\\n",
       "0  201903    AS002855           4      5.0      6.0      2.0      5.0   \n",
       "1  201903    AS008805           1      6.0      1.0      5.0      3.0   \n",
       "2  201903    AS009373           5      6.0      7.0      4.0      4.0   \n",
       "3  201903    AS015233           8      4.0      9.0      9.0      7.0   \n",
       "4  201903    AS015315           4      5.0      5.0      5.0      7.0   \n",
       "\n",
       "   count_4  count_5  \n",
       "0      3.0      7.0  \n",
       "1      2.0      2.0  \n",
       "2      5.0      6.0  \n",
       "3      7.0      9.0  \n",
       "4      4.0      7.0  "
      ]
     },
     "execution_count": 104,
     "metadata": {},
     "output_type": "execute_result"
    }
   ],
   "source": [
    "uselog['usedate'] = pd.to_datetime(uselog['usedate'])\n",
    "uselog['ym'] = uselog['usedate'].dt.strftime('%Y%m')\n",
    "uselog_months = uselog.groupby(['ym', 'customer_id'], as_index=False).count()\n",
    "uselog_months.rename(columns={'log_id': 'count'}, inplace=True)\n",
    "del uselog_months['usedate']\n",
    "uselog_months.head()\n",
    "\n",
    "year_months = list(uselog['ym'].unique())\n",
    "predict_data = pd.DataFrame()\n",
    "\n",
    "for m in range(6, len(year_months)): # 最新6ヶ月分\n",
    "  tmp = uselog_months.loc[uselog_months['ym']==year_months[m]]\n",
    "  tmp.rename(columns={'count': 'count_pred'}, inplace=True)\n",
    "  # 基準の月から過去6ヶ月分の利用回数を求める\n",
    "  for offset in range(1, 7):\n",
    "   tmp_before = uselog_months.loc[uselog_months[\"ym\"]==year_months[m-offset]]\n",
    "   del tmp_before[\"ym\"]\n",
    "   tmp_before.rename(columns={\"count\":\"count_{}\".format(offset-1)}, inplace=True)\n",
    "   tmp = pd.merge(tmp, tmp_before, on=\"customer_id\", how=\"left\")\n",
    "predict_data = pd.concat([predict_data, tmp], ignore_index=True)\n",
    "predict_data.dropna(inplace=True)\n",
    "predict_data.reset_index(drop=True)\n",
    "predict_data.head()\n"
   ]
  },
  {
   "cell_type": "code",
   "execution_count": 112,
   "metadata": {},
   "outputs": [
    {
     "data": {
      "text/html": [
       "<div>\n",
       "<style scoped>\n",
       "    .dataframe tbody tr th:only-of-type {\n",
       "        vertical-align: middle;\n",
       "    }\n",
       "\n",
       "    .dataframe tbody tr th {\n",
       "        vertical-align: top;\n",
       "    }\n",
       "\n",
       "    .dataframe thead th {\n",
       "        text-align: right;\n",
       "    }\n",
       "</style>\n",
       "<table border=\"1\" class=\"dataframe\">\n",
       "  <thead>\n",
       "    <tr style=\"text-align: right;\">\n",
       "      <th></th>\n",
       "      <th>ym</th>\n",
       "      <th>customer_id</th>\n",
       "      <th>count_pred</th>\n",
       "      <th>count_0</th>\n",
       "      <th>count_1</th>\n",
       "      <th>count_2</th>\n",
       "      <th>count_3</th>\n",
       "      <th>count_4</th>\n",
       "      <th>count_5</th>\n",
       "      <th>start_date</th>\n",
       "      <th>current_date</th>\n",
       "      <th>period</th>\n",
       "    </tr>\n",
       "  </thead>\n",
       "  <tbody>\n",
       "    <tr>\n",
       "      <th>0</th>\n",
       "      <td>201903</td>\n",
       "      <td>AS002855</td>\n",
       "      <td>4</td>\n",
       "      <td>5.0</td>\n",
       "      <td>6.0</td>\n",
       "      <td>2.0</td>\n",
       "      <td>5.0</td>\n",
       "      <td>3.0</td>\n",
       "      <td>7.0</td>\n",
       "      <td>2016-11-01</td>\n",
       "      <td>2019-03-01</td>\n",
       "      <td>850 days</td>\n",
       "    </tr>\n",
       "    <tr>\n",
       "      <th>1</th>\n",
       "      <td>201903</td>\n",
       "      <td>AS008805</td>\n",
       "      <td>1</td>\n",
       "      <td>6.0</td>\n",
       "      <td>1.0</td>\n",
       "      <td>5.0</td>\n",
       "      <td>3.0</td>\n",
       "      <td>2.0</td>\n",
       "      <td>2.0</td>\n",
       "      <td>2018-06-07</td>\n",
       "      <td>2019-03-01</td>\n",
       "      <td>267 days</td>\n",
       "    </tr>\n",
       "    <tr>\n",
       "      <th>2</th>\n",
       "      <td>201903</td>\n",
       "      <td>AS009373</td>\n",
       "      <td>5</td>\n",
       "      <td>6.0</td>\n",
       "      <td>7.0</td>\n",
       "      <td>4.0</td>\n",
       "      <td>4.0</td>\n",
       "      <td>5.0</td>\n",
       "      <td>6.0</td>\n",
       "      <td>2015-11-01</td>\n",
       "      <td>2019-03-01</td>\n",
       "      <td>1216 days</td>\n",
       "    </tr>\n",
       "    <tr>\n",
       "      <th>3</th>\n",
       "      <td>201903</td>\n",
       "      <td>AS015233</td>\n",
       "      <td>8</td>\n",
       "      <td>4.0</td>\n",
       "      <td>9.0</td>\n",
       "      <td>9.0</td>\n",
       "      <td>7.0</td>\n",
       "      <td>7.0</td>\n",
       "      <td>9.0</td>\n",
       "      <td>2018-05-13</td>\n",
       "      <td>2019-03-01</td>\n",
       "      <td>292 days</td>\n",
       "    </tr>\n",
       "    <tr>\n",
       "      <th>4</th>\n",
       "      <td>201903</td>\n",
       "      <td>AS015315</td>\n",
       "      <td>4</td>\n",
       "      <td>5.0</td>\n",
       "      <td>5.0</td>\n",
       "      <td>5.0</td>\n",
       "      <td>7.0</td>\n",
       "      <td>4.0</td>\n",
       "      <td>7.0</td>\n",
       "      <td>2015-07-01</td>\n",
       "      <td>2019-03-01</td>\n",
       "      <td>1339 days</td>\n",
       "    </tr>\n",
       "  </tbody>\n",
       "</table>\n",
       "</div>"
      ],
      "text/plain": [
       "       ym customer_id  count_pred  count_0  count_1  count_2  count_3  \\\n",
       "0  201903    AS002855           4      5.0      6.0      2.0      5.0   \n",
       "1  201903    AS008805           1      6.0      1.0      5.0      3.0   \n",
       "2  201903    AS009373           5      6.0      7.0      4.0      4.0   \n",
       "3  201903    AS015233           8      4.0      9.0      9.0      7.0   \n",
       "4  201903    AS015315           4      5.0      5.0      5.0      7.0   \n",
       "\n",
       "   count_4  count_5 start_date current_date    period  \n",
       "0      3.0      7.0 2016-11-01   2019-03-01  850 days  \n",
       "1      2.0      2.0 2018-06-07   2019-03-01  267 days  \n",
       "2      5.0      6.0 2015-11-01   2019-03-01 1216 days  \n",
       "3      7.0      9.0 2018-05-13   2019-03-01  292 days  \n",
       "4      4.0      7.0 2015-07-01   2019-03-01 1339 days  "
      ]
     },
     "execution_count": 112,
     "metadata": {},
     "output_type": "execute_result"
    }
   ],
   "source": [
    "from dateutil.relativedelta import relativedelta\n",
    "predict_data_merge = pd.merge(predict_data, customer[['customer_id', 'start_date']], on='customer_id', how='left')\n",
    "predict_data_merge['current_date'] = pd.to_datetime(predict_data['ym'], format='%Y%m')\n",
    "predict_data_merge['start_date'] = pd.to_datetime(predict_data_merge['start_date'])\n",
    "predict_data_merge['period'] = predict_data_merge['current_date']- predict_data_merge['start_date']\n",
    "predict_data_merge.head()\n"
   ]
  },
  {
   "cell_type": "code",
   "execution_count": 119,
   "metadata": {},
   "outputs": [
    {
     "name": "stdout",
     "output_type": "stream",
     "text": [
      "    count_0  count_1  count_2  count_3  count_4  count_5  period_days\n",
      "1       6.0      1.0      5.0      3.0      2.0      2.0          267\n",
      "3       4.0      9.0      9.0      7.0      7.0      9.0          292\n",
      "35      4.0      4.0      1.0      3.0      4.0      4.0          240\n",
      "37      8.0      8.0      8.0      9.0     12.0     11.0          170\n",
      "58      7.0      8.0      9.0      9.0     12.0      6.0          320\n",
      "1     1\n",
      "3     8\n",
      "35    1\n",
      "37    6\n",
      "58    9\n",
      "Name: count_pred, dtype: int64\n",
      "0.5067569118183729\n",
      "0.41001259344456076\n"
     ]
    }
   ],
   "source": [
    "from sklearn import linear_model\n",
    "from sklearn.model_selection import train_test_split\n",
    "\n",
    "predict_data_merge = predict_data_merge.loc[\n",
    "    predict_data_merge[\"start_date\"] >= pd.to_datetime(\"20180401\")\n",
    "]\n",
    "predict_data_merge[\"period_days\"] = predict_data_merge[\"period\"].dt.days\n",
    "predict_data_merge.dropna(inplace=True)\n",
    "\n",
    "model = linear_model.LinearRegression()\n",
    "X = predict_data_merge[\n",
    "    [\"count_0\", \"count_1\", \"count_2\", \"count_3\", \"count_4\", \"count_5\", \"period_days\"]\n",
    "]\n",
    "y = predict_data_merge[\"count_pred\"]\n",
    "print(X.head())\n",
    "print(y.head())\n",
    "X_train, X_test, y_train, y_test = train_test_split(X, y)\n",
    "model.fit(X_train, y_train)\n",
    "\n",
    "print(model.score(X_train, y_train))\n",
    "print(model.score(X_test, y_test))\n"
   ]
  },
  {
   "cell_type": "code",
   "execution_count": 129,
   "metadata": {},
   "outputs": [
    {
     "name": "stdout",
     "output_type": "stream",
     "text": [
      "Fitting 5 folds for each of 9 candidates, totalling 45 fits\n",
      "0.741504321337693\n",
      "0.4926000920332667\n",
      "count_5        0.031969\n",
      "period_days    0.039511\n",
      "count_4        0.051270\n",
      "count_1        0.132758\n",
      "count_0        0.160671\n",
      "count_2        0.246338\n",
      "count_3        0.337483\n",
      "dtype: float32\n"
     ]
    }
   ],
   "source": [
    "import xgboost as xgb\n",
    "from sklearn.model_selection import GridSearchCV\n",
    "\n",
    "reg = xgb.XGBRegressor()\n",
    "# ハイパーパラメータ探索\n",
    "reg_cv = GridSearchCV(reg, {'max_depth': [2,4,6], 'n_estimators': [50,100,200]}, verbose=1)\n",
    "reg_cv.fit(X_train, y_train)\n",
    "\n",
    "reg = xgb.XGBRegressor(**reg_cv.best_params_)\n",
    "reg.fit(X_train, y_train)\n",
    "print(reg.score(X_train, y_train))\n",
    "print(reg.score(X_test, y_test))\n",
    "\n",
    "importances = pd.Series(reg.feature_importances_, index = X_train.columns)\n",
    "importances = importances.sort_values()\n",
    "print(importances)\n"
   ]
  },
  {
   "cell_type": "code",
   "execution_count": 121,
   "metadata": {},
   "outputs": [
    {
     "data": {
      "text/html": [
       "<div>\n",
       "<style scoped>\n",
       "    .dataframe tbody tr th:only-of-type {\n",
       "        vertical-align: middle;\n",
       "    }\n",
       "\n",
       "    .dataframe tbody tr th {\n",
       "        vertical-align: top;\n",
       "    }\n",
       "\n",
       "    .dataframe thead th {\n",
       "        text-align: right;\n",
       "    }\n",
       "</style>\n",
       "<table border=\"1\" class=\"dataframe\">\n",
       "  <thead>\n",
       "    <tr style=\"text-align: right;\">\n",
       "      <th></th>\n",
       "      <th>feature_names</th>\n",
       "      <th>coefficent</th>\n",
       "    </tr>\n",
       "  </thead>\n",
       "  <tbody>\n",
       "    <tr>\n",
       "      <th>0</th>\n",
       "      <td>count_0</td>\n",
       "      <td>0.295755</td>\n",
       "    </tr>\n",
       "    <tr>\n",
       "      <th>1</th>\n",
       "      <td>count_1</td>\n",
       "      <td>0.130704</td>\n",
       "    </tr>\n",
       "    <tr>\n",
       "      <th>2</th>\n",
       "      <td>count_2</td>\n",
       "      <td>0.167578</td>\n",
       "    </tr>\n",
       "    <tr>\n",
       "      <th>3</th>\n",
       "      <td>count_3</td>\n",
       "      <td>0.221242</td>\n",
       "    </tr>\n",
       "    <tr>\n",
       "      <th>4</th>\n",
       "      <td>count_4</td>\n",
       "      <td>0.077006</td>\n",
       "    </tr>\n",
       "    <tr>\n",
       "      <th>5</th>\n",
       "      <td>count_5</td>\n",
       "      <td>0.212941</td>\n",
       "    </tr>\n",
       "    <tr>\n",
       "      <th>6</th>\n",
       "      <td>period_days</td>\n",
       "      <td>0.001374</td>\n",
       "    </tr>\n",
       "  </tbody>\n",
       "</table>\n",
       "</div>"
      ],
      "text/plain": [
       "  feature_names  coefficent\n",
       "0       count_0    0.295755\n",
       "1       count_1    0.130704\n",
       "2       count_2    0.167578\n",
       "3       count_3    0.221242\n",
       "4       count_4    0.077006\n",
       "5       count_5    0.212941\n",
       "6   period_days    0.001374"
      ]
     },
     "execution_count": 121,
     "metadata": {},
     "output_type": "execute_result"
    }
   ],
   "source": [
    "coef = pd.DataFrame({'feature_names': X.columns, 'coefficent': model.coef_})\n",
    "coef"
   ]
  },
  {
   "cell_type": "code",
   "execution_count": 122,
   "metadata": {},
   "outputs": [
    {
     "name": "stderr",
     "output_type": "stream",
     "text": [
      "/Users/sasaki.kazuhiro/.asdf/installs/python/3.10.0/lib/python3.10/site-packages/sklearn/base.py:450: UserWarning: X does not have valid feature names, but LinearRegression was fitted with feature names\n",
      "  warnings.warn(\n"
     ]
    },
    {
     "data": {
      "text/plain": [
       "array([3.71901264, 1.80957986])"
      ]
     },
     "execution_count": 122,
     "metadata": {},
     "output_type": "execute_result"
    }
   ],
   "source": [
    "x1 = [3,4,4,6,8,7,8]\n",
    "x2 = [2,2,3,3,4,6,8]\n",
    "x_pred = [x1, x2]\n",
    "model.predict(x_pred)"
   ]
  },
  {
   "cell_type": "code",
   "execution_count": 123,
   "metadata": {},
   "outputs": [],
   "source": [
    "uselog_months.to_csv('3/use_log_months.csv', index=False)"
   ]
  }
 ],
 "metadata": {
  "interpreter": {
   "hash": "53dcff9c43884449f7dc1e7e541f23fc63052845d6a67176d9848b92fcb5c7f0"
  },
  "kernelspec": {
   "display_name": "Python 3.10.0 64-bit",
   "language": "python",
   "name": "python3"
  },
  "language_info": {
   "codemirror_mode": {
    "name": "ipython",
    "version": 3
   },
   "file_extension": ".py",
   "mimetype": "text/x-python",
   "name": "python",
   "nbconvert_exporter": "python",
   "pygments_lexer": "ipython3",
   "version": "3.10.0"
  },
  "orig_nbformat": 4
 },
 "nbformat": 4,
 "nbformat_minor": 2
}

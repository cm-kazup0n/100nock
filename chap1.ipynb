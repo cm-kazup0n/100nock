{
 "cells": [
  {
   "cell_type": "code",
   "execution_count": 28,
   "metadata": {},
   "outputs": [
    {
     "name": "stdout",
     "output_type": "stream",
     "text": [
      "971135000\n",
      "971135000\n",
      "True\n"
     ]
    }
   ],
   "source": [
    "import pandas as pd\n",
    "customer_master = pd.read_csv('1/customer_master.csv')\n",
    "item_master = pd.read_csv('1/item_master.csv')\n",
    "transaction_1 = pd.read_csv('1/transaction_1.csv')\n",
    "transaction_2 = pd.read_csv('1/transaction_2.csv')\n",
    "transaction = pd.concat([transaction_1, transaction_2], ignore_index=True)\n",
    "transaction_detail_1 = pd.read_csv('1/transaction_detail_1.csv')\n",
    "transaction_detail_2 = pd.read_csv('1/transaction_detail_2.csv')\n",
    "transaction_details = pd.concat([transaction_detail_1, transaction_detail_2], ignore_index=True)\n",
    "\n",
    "join_data = pd.merge(transaction_details, transaction[['transaction_id', 'payment_date', 'customer_id']], on='transaction_id', how='left')\n",
    "join_data = pd.merge(join_data, customer_master, on='customer_id', how='left')\n",
    "join_data = pd.merge(join_data, item_master, on='item_id', how='left')\n",
    "\n",
    "join_data['price'] = join_data['item_price'] * join_data['quantity']\n",
    "\n",
    "\n",
    "# check sums\n",
    "print(join_data['price'].sum())\n",
    "print(transaction['price'].sum())\n",
    "print(join_data['price'].sum() == transaction['price'].sum())\n",
    "\n",
    "\n",
    "\n",
    "\n"
   ]
  }
 ],
 "metadata": {
  "interpreter": {
   "hash": "53dcff9c43884449f7dc1e7e541f23fc63052845d6a67176d9848b92fcb5c7f0"
  },
  "kernelspec": {
   "display_name": "Python 3.10.0 64-bit",
   "language": "python",
   "name": "python3"
  },
  "language_info": {
   "codemirror_mode": {
    "name": "ipython",
    "version": 3
   },
   "file_extension": ".py",
   "mimetype": "text/x-python",
   "name": "python",
   "nbconvert_exporter": "python",
   "pygments_lexer": "ipython3",
   "version": "3.10.0"
  },
  "orig_nbformat": 4
 },
 "nbformat": 4,
 "nbformat_minor": 2
}

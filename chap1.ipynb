{
 "cells": [
  {
   "cell_type": "code",
   "execution_count": 32,
   "metadata": {},
   "outputs": [
    {
     "name": "stdout",
     "output_type": "stream",
     "text": [
      "971135000\n",
      "971135000\n",
      "True\n",
      "detail_id             0\n",
      "transaction_id        0\n",
      "item_id               0\n",
      "quantity              0\n",
      "payment_date          0\n",
      "customer_id           0\n",
      "customer_name         0\n",
      "registration_date     0\n",
      "customer_name_kana    0\n",
      "email                 0\n",
      "gender                0\n",
      "age                   0\n",
      "birth                 0\n",
      "pref                  0\n",
      "item_name             0\n",
      "item_price            0\n",
      "price                 0\n",
      "dtype: int64\n",
      "         detail_id     quantity          age     item_price          price\n",
      "count  7144.000000  7144.000000  7144.000000    7144.000000    7144.000000\n",
      "mean   3571.500000     1.199888    50.265677  121698.628219  135937.150056\n",
      "std    2062.439494     0.513647    17.190314   64571.311830   68511.453297\n",
      "min       0.000000     1.000000    20.000000   50000.000000   50000.000000\n",
      "25%    1785.750000     1.000000    36.000000   50000.000000   85000.000000\n",
      "50%    3571.500000     1.000000    50.000000  102500.000000  120000.000000\n",
      "75%    5357.250000     1.000000    65.000000  187500.000000  210000.000000\n",
      "max    7143.000000     4.000000    80.000000  210000.000000  420000.000000\n",
      "min: 2019-02-01 01:36:57\n",
      "max: 2019-07-31 23:41:38\n"
     ]
    }
   ],
   "source": [
    "import pandas as pd\n",
    "customer_master = pd.read_csv('1/customer_master.csv')\n",
    "item_master = pd.read_csv('1/item_master.csv')\n",
    "transaction_1 = pd.read_csv('1/transaction_1.csv')\n",
    "transaction_2 = pd.read_csv('1/transaction_2.csv')\n",
    "transaction = pd.concat([transaction_1, transaction_2], ignore_index=True)\n",
    "transaction_detail_1 = pd.read_csv('1/transaction_detail_1.csv')\n",
    "transaction_detail_2 = pd.read_csv('1/transaction_detail_2.csv')\n",
    "transaction_details = pd.concat([transaction_detail_1, transaction_detail_2], ignore_index=True)\n",
    "\n",
    "join_data = pd.merge(transaction_details, transaction[['transaction_id', 'payment_date', 'customer_id']], on='transaction_id', how='left')\n",
    "join_data = pd.merge(join_data, customer_master, on='customer_id', how='left')\n",
    "join_data = pd.merge(join_data, item_master, on='item_id', how='left')\n",
    "\n",
    "join_data['price'] = join_data['item_price'] * join_data['quantity']\n",
    "\n",
    "\n",
    "# check sums\n",
    "print(join_data['price'].sum())\n",
    "print(transaction['price'].sum())\n",
    "print(join_data['price'].sum() == transaction['price'].sum())\n",
    "\n",
    "print(join_data.isnull().sum())\n",
    "print(join_data.describe())\n",
    "print(f\"min: {join_data['payment_date'].min()}\")\n",
    "print(f\"max: {join_data['payment_date'].max()}\")\n",
    "\n",
    "\n",
    "\n",
    "\n"
   ]
  }
 ],
 "metadata": {
  "interpreter": {
   "hash": "53dcff9c43884449f7dc1e7e541f23fc63052845d6a67176d9848b92fcb5c7f0"
  },
  "kernelspec": {
   "display_name": "Python 3.10.0 64-bit",
   "language": "python",
   "name": "python3"
  },
  "language_info": {
   "codemirror_mode": {
    "name": "ipython",
    "version": 3
   },
   "file_extension": ".py",
   "mimetype": "text/x-python",
   "name": "python",
   "nbconvert_exporter": "python",
   "pygments_lexer": "ipython3",
   "version": "3.10.0"
  },
  "orig_nbformat": 4
 },
 "nbformat": 4,
 "nbformat_minor": 2
}
